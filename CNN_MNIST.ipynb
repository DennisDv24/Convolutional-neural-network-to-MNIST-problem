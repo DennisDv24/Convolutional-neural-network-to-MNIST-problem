{
  "nbformat": 4,
  "nbformat_minor": 0,
  "metadata": {
    "colab": {
      "name": "CNN-MNIST.ipynb",
      "version": "0.3.2",
      "provenance": [],
      "collapsed_sections": [],
      "include_colab_link": true
    },
    "kernelspec": {
      "name": "python3",
      "display_name": "Python 3"
    }
  },
  "cells": [
    {
      "cell_type": "markdown",
      "metadata": {
        "id": "view-in-github",
        "colab_type": "text"
      },
      "source": [
        "<a href=\"https://colab.research.google.com/github/DennisDv24/Convolutional-neural-network-to-MNIST-problem/blob/master/CNN_MNIST.ipynb\" target=\"_parent\"><img src=\"https://colab.research.google.com/assets/colab-badge.svg\" alt=\"Open In Colab\"/></a>"
      ]
    },
    {
      "metadata": {
        "id": "_Qx_GGVM78S5",
        "colab_type": "code",
        "outputId": "bb90b2d4-826f-4f42-8194-1602e87a1187",
        "colab": {
          "base_uri": "https://localhost:8080/",
          "height": 34
        }
      },
      "cell_type": "code",
      "source": [
        "import keras\n",
        "from keras import layers as l\n",
        "from keras import models\n",
        "from keras.datasets import mnist\n",
        "from keras.utils import to_categorical as t_c"
      ],
      "execution_count": 1,
      "outputs": [
        {
          "output_type": "stream",
          "text": [
            "Using TensorFlow backend.\n"
          ],
          "name": "stderr"
        }
      ]
    },
    {
      "metadata": {
        "id": "4V77f3S3CyRo",
        "colab_type": "code",
        "colab": {}
      },
      "cell_type": "code",
      "source": [
        "activationF = af = 'relu'\n",
        "outputF = of = 'softmax'\n",
        "poolingMatrix = pM = (5,5)\n",
        "poolingMaximizationMatrix = pMM = (2,2)"
      ],
      "execution_count": 0,
      "outputs": []
    },
    {
      "metadata": {
        "id": "r4YyBa-88mxc",
        "colab_type": "code",
        "outputId": "81bbe5c0-4032-4d55-c4d6-d2cb81e9575c",
        "colab": {
          "base_uri": "https://localhost:8080/",
          "height": 391
        }
      },
      "cell_type": "code",
      "source": [
        "CNN = models.Sequential()\n",
        "CNN.add(l.Conv2D      (32, pM, activation = af, input_shape = (28, 28, 1)))     \n",
        "#First tensor used to the convolutional layer\n",
        "#, second tensor used to the input, the resultant\n",
        "#tensor (output) is the posible one that can fit the 5x5 tensor\n",
        "#with the 28x28, they only can fit one with other 24x24 times\n",
        "CNN.add(l.MaxPooling2D(pMM))\n",
        "CNN.add(l.Conv2D      (64, pM, activation = af))\n",
        "CNN.add(l.MaxPooling2D(pMM))\n",
        "CNN.add(l.Flatten     ())                                                       \n",
        "#3D tensor to 1D tensor\n",
        "CNN.add(l.Dense       (10    , activation = of))\n",
        "CNN.summary           ()"
      ],
      "execution_count": 3,
      "outputs": [
        {
          "output_type": "stream",
          "text": [
            "WARNING:tensorflow:From /usr/local/lib/python3.6/dist-packages/tensorflow/python/framework/op_def_library.py:263: colocate_with (from tensorflow.python.framework.ops) is deprecated and will be removed in a future version.\n",
            "Instructions for updating:\n",
            "Colocations handled automatically by placer.\n",
            "_________________________________________________________________\n",
            "Layer (type)                 Output Shape              Param #   \n",
            "=================================================================\n",
            "conv2d_1 (Conv2D)            (None, 24, 24, 32)        832       \n",
            "_________________________________________________________________\n",
            "max_pooling2d_1 (MaxPooling2 (None, 12, 12, 32)        0         \n",
            "_________________________________________________________________\n",
            "conv2d_2 (Conv2D)            (None, 8, 8, 64)          51264     \n",
            "_________________________________________________________________\n",
            "max_pooling2d_2 (MaxPooling2 (None, 4, 4, 64)          0         \n",
            "_________________________________________________________________\n",
            "flatten_1 (Flatten)          (None, 1024)              0         \n",
            "_________________________________________________________________\n",
            "dense_1 (Dense)              (None, 10)                10250     \n",
            "=================================================================\n",
            "Total params: 62,346\n",
            "Trainable params: 62,346\n",
            "Non-trainable params: 0\n",
            "_________________________________________________________________\n"
          ],
          "name": "stdout"
        }
      ]
    },
    {
      "metadata": {
        "id": "0buEGV3SC-rU",
        "colab_type": "code",
        "colab": {}
      },
      "cell_type": "code",
      "source": [
        "(train_images, train_labels), (test_images, test_labels) = mnist.load_data()\n",
        "\n",
        "train_images = train_images.reshape((60000, 28, 28, 1))\n",
        "test_images  = test_images.reshape ((10000, 28, 28, 1))\n",
        "train_images = train_images.astype ('float32') / 255\n",
        "test_images  = test_images.astype  ('float32') / 255\n",
        "train_labels = t_c(train_labels)\n",
        "test_labels  = t_c(test_labels )"
      ],
      "execution_count": 0,
      "outputs": []
    }
  ]
}