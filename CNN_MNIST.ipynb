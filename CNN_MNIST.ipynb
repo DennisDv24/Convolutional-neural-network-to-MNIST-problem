{
  "nbformat": 4,
  "nbformat_minor": 0,
  "metadata": {
    "colab": {
      "name": "CNN-MNIST.ipynb",
      "version": "0.3.2",
      "provenance": [],
      "collapsed_sections": [],
      "include_colab_link": true
    },
    "kernelspec": {
      "name": "python3",
      "display_name": "Python 3"
    }
  },
  "cells": [
    {
      "cell_type": "markdown",
      "metadata": {
        "id": "view-in-github",
        "colab_type": "text"
      },
      "source": [
        "<a href=\"https://colab.research.google.com/github/DennisDv24/Convolutional-neural-network-to-MNIST-problem/blob/master/CNN_MNIST.ipynb\" target=\"_parent\"><img src=\"https://colab.research.google.com/assets/colab-badge.svg\" alt=\"Open In Colab\"/></a>"
      ]
    },
    {
      "metadata": {
        "id": "_Qx_GGVM78S5",
        "colab_type": "code",
        "outputId": "045f7a59-2301-43c1-d747-741d2f4a8946",
        "colab": {
          "base_uri": "https://localhost:8080/",
          "height": 34
        }
      },
      "cell_type": "code",
      "source": [
        "import keras\n",
        "from keras import layers as l\n",
        "from keras import models\n",
        "from keras.datasets import mnist\n",
        "from keras.utils import to_categorical as t_c"
      ],
      "execution_count": 1,
      "outputs": [
        {
          "output_type": "stream",
          "text": [
            "Using TensorFlow backend.\n"
          ],
          "name": "stderr"
        }
      ]
    },
    {
      "metadata": {
        "id": "4V77f3S3CyRo",
        "colab_type": "code",
        "colab": {}
      },
      "cell_type": "code",
      "source": [
        "activationF = af = 'relu'\n",
        "outputF = of = 'softmax'\n",
        "poolingMatrix = pM = (5,5)\n",
        "poolingMaximizationMatrix = pMM = (2,2)"
      ],
      "execution_count": 0,
      "outputs": []
    },
    {
      "metadata": {
        "id": "r4YyBa-88mxc",
        "colab_type": "code",
        "outputId": "6075c650-05c1-4b2c-ad1b-75e932a58cb9",
        "colab": {
          "base_uri": "https://localhost:8080/",
          "height": 411
        }
      },
      "cell_type": "code",
      "source": [
        "CNN = models.Sequential()\n",
        "CNN.add(l.Conv2D      (32, pM, activation = af, input_shape = (28, 28, 1)))     \n",
        "#First tensor used to the convolutional layer\n",
        "#, second tensor used to the input, the resultant\n",
        "#tensor (output) is the posible one that can fit the 5x5 tensor\n",
        "#with the 28x28, they only can fit one with other 24x24 times\n",
        "CNN.add(l.MaxPooling2D(pMM))\n",
        "CNN.add(l.Conv2D      (64, pM, activation = af))\n",
        "CNN.add(l.MaxPooling2D(pMM))\n",
        "CNN.add(l.Flatten     ())                                                       \n",
        "#3D tensor to 1D tensor\n",
        "CNN.add(l.Dense       (10    , activation = of))\n",
        "CNN.summary           ()"
      ],
      "execution_count": 3,
      "outputs": [
        {
          "output_type": "stream",
          "text": [
            "WARNING:tensorflow:From /usr/local/lib/python3.6/dist-packages/tensorflow/python/framework/op_def_library.py:263: colocate_with (from tensorflow.python.framework.ops) is deprecated and will be removed in a future version.\n",
            "Instructions for updating:\n",
            "Colocations handled automatically by placer.\n",
            "_________________________________________________________________\n",
            "Layer (type)                 Output Shape              Param #   \n",
            "=================================================================\n",
            "conv2d_1 (Conv2D)            (None, 24, 24, 32)        832       \n",
            "_________________________________________________________________\n",
            "max_pooling2d_1 (MaxPooling2 (None, 12, 12, 32)        0         \n",
            "_________________________________________________________________\n",
            "conv2d_2 (Conv2D)            (None, 8, 8, 64)          51264     \n",
            "_________________________________________________________________\n",
            "max_pooling2d_2 (MaxPooling2 (None, 4, 4, 64)          0         \n",
            "_________________________________________________________________\n",
            "flatten_1 (Flatten)          (None, 1024)              0         \n",
            "_________________________________________________________________\n",
            "dense_1 (Dense)              (None, 10)                10250     \n",
            "=================================================================\n",
            "Total params: 62,346\n",
            "Trainable params: 62,346\n",
            "Non-trainable params: 0\n",
            "_________________________________________________________________\n"
          ],
          "name": "stdout"
        }
      ]
    },
    {
      "metadata": {
        "id": "0buEGV3SC-rU",
        "colab_type": "code",
        "colab": {}
      },
      "cell_type": "code",
      "source": [
        "(trainData, trainLabel), (testData, testLabel) = mnist.load_data()\n",
        "\n",
        "trainData  = trainData.reshape((60000, 28, 28, 1))\n",
        "testData   = testData.reshape ((10000, 28, 28, 1))\n",
        "trainData  = trainData.astype ('float32') / 255\n",
        "testData   = testData.astype  ('float32') / 255\n",
        "trainLabel = t_c(trainLabel)\n",
        "testLabel  = t_c(testLabel )"
      ],
      "execution_count": 0,
      "outputs": []
    },
    {
      "metadata": {
        "id": "a9bRtiFjqa-D",
        "colab_type": "code",
        "colab": {
          "base_uri": "https://localhost:8080/",
          "height": 275
        },
        "outputId": "575361d2-ba00-449e-ad19-3beff8c651dd"
      },
      "cell_type": "code",
      "source": [
        "\n",
        "batch = 128\n",
        "epochs = 5\n",
        "\n",
        "CNN.compile(loss='categorical_crossentropy',\n",
        "              optimizer='sgd',\n",
        "              metrics=['accuracy'])\n",
        "\n",
        "CNN.fit(trainData, trainLabel,\n",
        "          batch_size=batch,\n",
        "          epochs=epochs,\n",
        "          verbose=1\n",
        "          )"
      ],
      "execution_count": 5,
      "outputs": [
        {
          "output_type": "stream",
          "text": [
            "WARNING:tensorflow:From /usr/local/lib/python3.6/dist-packages/tensorflow/python/ops/math_ops.py:3066: to_int32 (from tensorflow.python.ops.math_ops) is deprecated and will be removed in a future version.\n",
            "Instructions for updating:\n",
            "Use tf.cast instead.\n",
            "Epoch 1/5\n",
            "60000/60000 [==============================] - 67s 1ms/step - loss: 1.0196 - acc: 0.7527\n",
            "Epoch 2/5\n",
            "60000/60000 [==============================] - 67s 1ms/step - loss: 0.2739 - acc: 0.9205\n",
            "Epoch 3/5\n",
            "60000/60000 [==============================] - 68s 1ms/step - loss: 0.2044 - acc: 0.9409\n",
            "Epoch 4/5\n",
            "60000/60000 [==============================] - 67s 1ms/step - loss: 0.1679 - acc: 0.9516\n",
            "Epoch 5/5\n",
            "60000/60000 [==============================] - 67s 1ms/step - loss: 0.1452 - acc: 0.9574\n"
          ],
          "name": "stdout"
        },
        {
          "output_type": "execute_result",
          "data": {
            "text/plain": [
              "<keras.callbacks.History at 0x7f996a7096d8>"
            ]
          },
          "metadata": {
            "tags": []
          },
          "execution_count": 5
        }
      ]
    },
    {
      "metadata": {
        "id": "BVMmZ__lss9Q",
        "colab_type": "code",
        "colab": {
          "base_uri": "https://localhost:8080/",
          "height": 68
        },
        "outputId": "db05751a-5d0e-4aa0-e081-cd6db260a33c"
      },
      "cell_type": "code",
      "source": [
        "testLoss, testAcc = CNN.evaluate(testData, testLabel)\n",
        "print('Test loss:', testLoss)\n",
        "print('Test accuracy:', testAcc)"
      ],
      "execution_count": 6,
      "outputs": [
        {
          "output_type": "stream",
          "text": [
            "10000/10000 [==============================] - 5s 465us/step\n",
            "Test loss: 0.12279161886498333\n",
            "Test accuracy: 0.9652\n"
          ],
          "name": "stdout"
        }
      ]
    }
  ]
}